{
 "cells": [
  {
   "cell_type": "markdown",
   "metadata": {},
   "source": [
    "# Tennis Season Simulation"
   ]
  },
  {
   "cell_type": "markdown",
   "metadata": {},
   "source": [
    "***Imports***"
   ]
  },
  {
   "cell_type": "code",
   "execution_count": null,
   "metadata": {},
   "outputs": [],
   "source": [
    "\"\"\"\n",
    "Imports that will be used for this assignment\n",
    "\"\"\"\n",
    "\n",
    "import math\n",
    "import matplotlib.pyplot as plt\n",
    "import numpy as np"
   ]
  },
  {
   "cell_type": "markdown",
   "metadata": {},
   "source": [
    "***Classes***"
   ]
  },
  {
   "cell_type": "code",
   "execution_count": null,
   "metadata": {},
   "outputs": [],
   "source": [
    "class Player():\n",
    "    # Ensure each new player has a unique ID\n",
    "    idCounter = 0\n",
    "    \n",
    "    def __init__(self, name, serveStrength, returnStrength, form, hardStrength, clayStrength, grassStrength):\n",
    "        \"\"\"\n",
    "        Method:\n",
    "            init method with adjustable parameters for serve, return strength and form.\n",
    "        \n",
    "        Params:\n",
    "            name (str):               The name of the player\n",
    "            serveStrength (float):    A multiplier for the players serve effectiveness\n",
    "            returnStrength (float):   A multiplier for the players return effectiveness\n",
    "            form (float):             A multiplier for the players current form\n",
    "            hardStrength (float):     A multiplier for the players strength on hard courts\n",
    "            clayStrength (float):     A multiplier for the players strength on clay courts\n",
    "            grassStrength (float):    A multiplier for the players strength on grass courts\n",
    "        \"\"\"\n",
    "        # Player identity\n",
    "        self.name = name\n",
    "        self.playerID = Player.idCounter\n",
    "                \n",
    "        # Player attributes\n",
    "        self.serveStrength = serveStrength\n",
    "        self.returnStrength = returnStrength\n",
    "        self.form = form\n",
    "        self.hardStrength = hardStrength\n",
    "        self.clayStrength = clayStrength\n",
    "        self.grassStrength = grassStrength\n",
    "\n",
    "        # Player Stats\n",
    "        self.gamesPlayer = 0\n",
    "        self.tournamentsWon = {\n",
    "            \"Grand Slam\": 0,\n",
    "            \"ATP Final\": 0,\n",
    "            \"Master 1000\": 0,\n",
    "            \"ATP 500\": 0,\n",
    "            \"ATP 250\": 0\n",
    "        }\n",
    "\n",
    "        # Increment ID counter to ensure every player has a unique ID\n",
    "        Player.idCounter += 1\n",
    "        \n",
    "    def __init__(self, name):\n",
    "        \"\"\"\n",
    "        Method:\n",
    "            init method where serve, return and form multipliers are assigned random values\n",
    "        \n",
    "        Params:\n",
    "            name (str):    The name of the player\n",
    "        \"\"\"\n",
    "        # Player Identity\n",
    "        self.name = name\n",
    "        self.playerID = Player.idCounter\n",
    "        \n",
    "        # Player attributes\n",
    "        self.serveStrength = np.random.normal(loc=1.0, scale=0.5)\n",
    "        self.returnStrength = np.random.normal(loc=1.0, scale=0.5)\n",
    "        self.form = np.random.normal(loc=1.0, scale=0.5)\n",
    "        self.hardStrength = np.random.normal(loc=1.0, scale=0.5)\n",
    "        self.clayStrength = np.random.normal(loc=1.0, scale=0.5)\n",
    "        self.grassStrength = np.random.normal(loc=1.0, scale=0.5)\n",
    "        \n",
    "        # Player stats\n",
    "        self.gamesPlayer = 0\n",
    "        self.tournamentsWon = {\n",
    "            \"Grand Slam\": 0,\n",
    "            \"ATP Final\": 0,\n",
    "            \"Master 1000\": 0,\n",
    "            \"ATP 500\": 0,\n",
    "            \"ATP 250\": 0\n",
    "        }\n",
    "        \n",
    "        # Increment ID counter to ensure every player has a unique ID\n",
    "        Player.idCounter += 1"
   ]
  },
  {
   "cell_type": "code",
   "execution_count": null,
   "metadata": {},
   "outputs": [],
   "source": [
    "class Game():\n",
    "    pass"
   ]
  },
  {
   "cell_type": "code",
   "execution_count": null,
   "metadata": {},
   "outputs": [],
   "source": [
    "class Set():\n",
    "    pass"
   ]
  },
  {
   "cell_type": "code",
   "execution_count": null,
   "metadata": {},
   "outputs": [],
   "source": [
    "class Match():\n",
    "    pass"
   ]
  },
  {
   "cell_type": "code",
   "execution_count": null,
   "metadata": {},
   "outputs": [],
   "source": [
    "class Tournament():\n",
    "    pass"
   ]
  },
  {
   "cell_type": "code",
   "execution_count": null,
   "metadata": {},
   "outputs": [],
   "source": [
    "class Season():\n",
    "    pass"
   ]
  },
  {
   "cell_type": "markdown",
   "metadata": {},
   "source": [
    "***Main***"
   ]
  }
 ],
 "metadata": {
  "language_info": {
   "name": "python"
  }
 },
 "nbformat": 4,
 "nbformat_minor": 2
}
